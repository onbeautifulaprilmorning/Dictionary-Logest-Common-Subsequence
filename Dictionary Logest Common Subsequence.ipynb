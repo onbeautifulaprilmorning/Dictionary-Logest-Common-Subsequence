{
  "nbformat": 4,
  "nbformat_minor": 0,
  "metadata": {
    "colab": {
      "name": "H.W #9 :  LCS를 응용한 영어사전.ipynb",
      "version": "0.3.2",
      "provenance": [],
      "collapsed_sections": []
    },
    "kernelspec": {
      "name": "python3",
      "display_name": "Python 3"
    }
  },
  "cells": [
    {
      "metadata": {
        "id": "ycIIb1pwd0D5",
        "colab_type": "code",
        "colab": {
          "base_uri": "https://localhost:8080/",
          "height": 52
        },
        "outputId": "a65f8c15-4077-4434-87ec-00b8cf773d8a"
      },
      "cell_type": "code",
      "source": [
        "eng_words = ['remnat', 'indispensable', 'undermine', 'fashion', 'prolong', 'adequate', 'halt', 'controversial']\n",
        "kor_words = ['나머지', '필수적인', '약화시키다', '방식', '연장하다', '충분한', '정지시키다', '논쟁의 여지가 있는']\n",
        "\n",
        "dic = {}\n",
        "for i in range(len(eng_words)):\n",
        "  dic[eng_words[i]] = kor_words[i]\n",
        "  \n",
        "################################################################################\n",
        "\n",
        "import numpy as np\n",
        "\n",
        "def LCSequence(a,b):\n",
        "    a = \" \"+a\n",
        "    b = \" \"+b\n",
        "\n",
        "    m = len(a)\n",
        "    n = len(b)\n",
        "    cell = np.zeros((m,n), dtype=int)\n",
        "\n",
        "    for i in range(1,m):\n",
        "        for j in range(1,n):\n",
        "            if a[i] == b[j]:\n",
        "                cell[i,j] = cell[i-1,j-1] + 1\n",
        "            else:\n",
        "                cell[i,j] = np.maximum(cell[i-1,j], cell[i,j-1])\n",
        "    return cell[m-1,n-1]\n",
        "  \n",
        "################################################################################\n",
        "\n",
        "def find_dic(dic, word):\n",
        "  \n",
        "  cnt = []\n",
        "  \n",
        "  keys = dic.keys()\n",
        "  keys = list(keys)\n",
        "  \n",
        "  if word in keys:\n",
        "    return \"찾는 단어가 있습니다\", word, dic[word]\n",
        "  \n",
        "  elif word not in keys: \n",
        "    for key in keys:\n",
        "      cnt.append(LCSequence(word, key))\n",
        "  \n",
        "    max_cnt = max(cnt)\n",
        "    index_ = cnt.index(max_cnt)\n",
        "    close_word = keys[index_]\n",
        "\n",
        "    return \"유사한 단어가 있습니다\", close_word, dic[close_word]\n",
        "       \n",
        "word_input = input(\"단어 입력: \")\n",
        "find_dic(dic, word_input)"
      ],
      "execution_count": 60,
      "outputs": [
        {
          "output_type": "stream",
          "text": [
            "단어 입력: adequa\n"
          ],
          "name": "stdout"
        },
        {
          "output_type": "execute_result",
          "data": {
            "text/plain": [
              "('유사한 단어가 있습니다', 'adequate', '충분한')"
            ]
          },
          "metadata": {
            "tags": []
          },
          "execution_count": 60
        }
      ]
    }
  ]
}